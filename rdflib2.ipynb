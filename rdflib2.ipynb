{
 "cells": [
  {
   "cell_type": "code",
   "execution_count": 1,
   "id": "guided-medication",
   "metadata": {},
   "outputs": [],
   "source": [
    "import rdflib"
   ]
  },
  {
   "cell_type": "code",
   "execution_count": 2,
   "id": "outstanding-check",
   "metadata": {},
   "outputs": [],
   "source": [
    "from rdflib import Graph"
   ]
  },
  {
   "cell_type": "code",
   "execution_count": 5,
   "id": "romance-municipality",
   "metadata": {},
   "outputs": [
    {
     "data": {
      "text/plain": [
       "<Graph identifier=N45ce7059c6a4435ba6ed8e3bf849a125 (<class 'rdflib.graph.Graph'>)>"
      ]
     },
     "execution_count": 5,
     "metadata": {},
     "output_type": "execute_result"
    }
   ],
   "source": [
    "g=Graph()\n",
    "\n",
    "g.parse(\"rdflibtest.rdf\")"
   ]
  },
  {
   "cell_type": "markdown",
   "id": "given-deficit",
   "metadata": {},
   "source": [
    "# Get all stations :"
   ]
  },
  {
   "cell_type": "code",
   "execution_count": 11,
   "id": "pressing-charm",
   "metadata": {},
   "outputs": [],
   "source": [
    "query_test=\"\"\"\n",
    "PREFIX owl: <http://www.w3.org/2002/07/owl#>\n",
    "PREFIX rdf: <http://www.w3.org/1999/02/22-rdf-syntax-ns#>\n",
    "PREFIX rdfs: <http://www.w3.org/2000/01/rdf-schema#>\n",
    "PREFIX ns: <http://www.owl-ontologies.com/unnamed.owl#>\n",
    "\n",
    "SELECT * WHERE {\n",
    "  ?poi rdf:type ns:Station.\n",
    "  ?poi ns:hasLatitude ?lat.\n",
    "  ?poi ns:hasLongitude ?long.\n",
    "  ?poi ns:hasName ?name.\n",
    "  ?poi ns:hasDistrict ?district.} \"\"\""
   ]
  },
  {
   "cell_type": "code",
   "execution_count": 12,
   "id": "nutritional-router",
   "metadata": {},
   "outputs": [],
   "source": [
    "qres=g.query(query_test)"
   ]
  },
  {
   "cell_type": "code",
   "execution_count": 17,
   "id": "affiliated-variance",
   "metadata": {},
   "outputs": [
    {
     "name": "stdout",
     "output_type": "stream",
     "text": [
      "46.097 4.847 Aix-en-Provence TGV Ain\n",
      "46.114 5.824 Bellegarde Ain\n",
      "48.871 2.395 Paris-Est Paris\n",
      "48.881 2.317 Paris-Nord Paris\n"
     ]
    }
   ],
   "source": [
    "for row in qres:\n",
    "    print(f\"{row.lat} {row.long} {row.name} {row.district}\")"
   ]
  },
  {
   "cell_type": "code",
   "execution_count": null,
   "id": "curious-particle",
   "metadata": {},
   "outputs": [],
   "source": []
  }
 ],
 "metadata": {
  "kernelspec": {
   "display_name": "Python 3",
   "language": "python",
   "name": "python3"
  },
  "language_info": {
   "codemirror_mode": {
    "name": "ipython",
    "version": 3
   },
   "file_extension": ".py",
   "mimetype": "text/x-python",
   "name": "python",
   "nbconvert_exporter": "python",
   "pygments_lexer": "ipython3",
   "version": "3.8.5"
  }
 },
 "nbformat": 4,
 "nbformat_minor": 5
}
