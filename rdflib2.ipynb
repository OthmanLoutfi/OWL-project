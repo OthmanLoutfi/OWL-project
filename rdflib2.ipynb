{
 "cells": [
  {
   "cell_type": "markdown",
   "id": "threaded-edinburgh",
   "metadata": {},
   "source": [
    "# Hotelrain: Querying & Populatin the ontology"
   ]
  },
  {
   "cell_type": "markdown",
   "id": "purple-scroll",
   "metadata": {},
   "source": [
    "## rdflib lets us work with rdf files but also use SPARQL queries"
   ]
  },
  {
   "cell_type": "code",
   "execution_count": 2,
   "id": "guided-medication",
   "metadata": {},
   "outputs": [],
   "source": [
    "import rdflib\n",
    "from rdflib import Graph"
   ]
  },
  {
   "cell_type": "code",
   "execution_count": 38,
   "id": "romance-municipality",
   "metadata": {
    "scrolled": true
   },
   "outputs": [
    {
     "name": "stderr",
     "output_type": "stream",
     "text": [
      "http://www.owl-ontologies.com/unnamed.owl#Aix-en-Provence TGV does not look like a valid URI, trying to serialize this will break.\n",
      "http://www.owl-ontologies.com/unnamed.owl#Avignon TGV does not look like a valid URI, trying to serialize this will break.\n",
      "http://www.owl-ontologies.com/unnamed.owl#Champagne-Ardenne TGV does not look like a valid URI, trying to serialize this will break.\n",
      "http://www.owl-ontologies.com/unnamed.owl#La Rochelle-Ville does not look like a valid URI, trying to serialize this will break.\n",
      "http://www.owl-ontologies.com/unnamed.owl#Valence TGV does not look like a valid URI, trying to serialize this will break.\n",
      "http://www.owl-ontologies.com/unnamed.owl#Meuse TGV does not look like a valid URI, trying to serialize this will break.\n",
      "http://www.owl-ontologies.com/unnamed.owl#La Teste does not look like a valid URI, trying to serialize this will break.\n",
      "http://www.owl-ontologies.com/unnamed.owl#TGV Haute-Picardie does not look like a valid URI, trying to serialize this will break.\n",
      "http://www.owl-ontologies.com/unnamed.owl#Lorraine TGV does not look like a valid URI, trying to serialize this will break.\n",
      "http://www.owl-ontologies.com/unnamed.owl#Vendôme - Villiers-sur-Loir does not look like a valid URI, trying to serialize this will break.\n",
      "http://www.owl-ontologies.com/unnamed.owl#La Baule-Escoublac does not look like a valid URI, trying to serialize this will break.\n",
      "http://www.owl-ontologies.com/unnamed.owl#Le Croisic does not look like a valid URI, trying to serialize this will break.\n",
      "http://www.owl-ontologies.com/unnamed.owl#Le Pouliguen does not look like a valid URI, trying to serialize this will break.\n",
      "http://www.owl-ontologies.com/unnamed.owl#Croix - Wasquehal does not look like a valid URI, trying to serialize this will break.\n",
      "http://www.owl-ontologies.com/unnamed.owl#Calais - Fréthun does not look like a valid URI, trying to serialize this will break.\n",
      "http://www.owl-ontologies.com/unnamed.owl#Étaples - Le Touquet does not look like a valid URI, trying to serialize this will break.\n",
      "http://www.owl-ontologies.com/unnamed.owl#Rang-du-Fliers - Verton does not look like a valid URI, trying to serialize this will break.\n",
      "http://www.owl-ontologies.com/unnamed.owl#Saint-Jean-de-Luz - Ciboure does not look like a valid URI, trying to serialize this will break.\n",
      "http://www.owl-ontologies.com/unnamed.owl#Besançon Franche-Comté TGV does not look like a valid URI, trying to serialize this will break.\n",
      "http://www.owl-ontologies.com/unnamed.owl#Lyon-Saint-Exupéry TGV does not look like a valid URI, trying to serialize this will break.\n",
      "http://www.owl-ontologies.com/unnamed.owl#Marne-la-Vallée - Chessy does not look like a valid URI, trying to serialize this will break.\n",
      "http://www.owl-ontologies.com/unnamed.owl#Le Creusot - Montceau - Montchanin does not look like a valid URI, trying to serialize this will break.\n",
      "http://www.owl-ontologies.com/unnamed.owl#Mâcon-Loché TGV does not look like a valid URI, trying to serialize this will break.\n",
      "http://www.owl-ontologies.com/unnamed.owl#Le Mans does not look like a valid URI, trying to serialize this will break.\n",
      "http://www.owl-ontologies.com/unnamed.owl#Aime-La Plagne does not look like a valid URI, trying to serialize this will break.\n",
      "http://www.owl-ontologies.com/unnamed.owl#Aix-les-Bains-Le Revard does not look like a valid URI, trying to serialize this will break.\n",
      "http://www.owl-ontologies.com/unnamed.owl#Chambéry - Challes-les-Eaux does not look like a valid URI, trying to serialize this will break.\n",
      "http://www.owl-ontologies.com/unnamed.owl#Moûtiers - Salins - Brides-les-Bains does not look like a valid URI, trying to serialize this will break.\n",
      "http://www.owl-ontologies.com/unnamed.owl#Saint-Avre - La Chambre does not look like a valid URI, trying to serialize this will break.\n",
      "http://www.owl-ontologies.com/unnamed.owl#Saint-Jean-de-Maurienne - Vallée de l'Arvan does not look like a valid URI, trying to serialize this will break.\n",
      "http://www.owl-ontologies.com/unnamed.owl#Saint-Gervais-les-Bains-Le Fayet does not look like a valid URI, trying to serialize this will break.\n",
      "http://www.owl-ontologies.com/unnamed.owl#Sallanches - Combloux - Megève does not look like a valid URI, trying to serialize this will break.\n",
      "http://www.owl-ontologies.com/unnamed.owl#Le Havre does not look like a valid URI, trying to serialize this will break.\n",
      "http://www.owl-ontologies.com/unnamed.owl#Saint-Maixent (Deux-Sèvres) does not look like a valid URI, trying to serialize this will break.\n",
      "http://www.owl-ontologies.com/unnamed.owl#Les Arcs - Draguignan does not look like a valid URI, trying to serialize this will break.\n",
      "http://www.owl-ontologies.com/unnamed.owl#La Roche-sur-Yon does not look like a valid URI, trying to serialize this will break.\n",
      "http://www.owl-ontologies.com/unnamed.owl#Les Sables-d'Olonne does not look like a valid URI, trying to serialize this will break.\n",
      "http://www.owl-ontologies.com/unnamed.owl#Saint-Michel - Valloire does not look like a valid URI, trying to serialize this will break.\n",
      "http://www.owl-ontologies.com/unnamed.owl#Belfort - Montbéliard TGV does not look like a valid URI, trying to serialize this will break.\n",
      "http://www.owl-ontologies.com/unnamed.owl#Massy - Palaiseau does not look like a valid URI, trying to serialize this will break.\n",
      "http://www.owl-ontologies.com/unnamed.owl#Massy TGV does not look like a valid URI, trying to serialize this will break.\n",
      "http://www.owl-ontologies.com/unnamed.owl#Champagne-Ardenne TGV does not look like a valid URI, trying to serialize this will break.\n",
      "http://www.owl-ontologies.com/unnamed.owl#Lorraine TGV does not look like a valid URI, trying to serialize this will break.\n",
      "http://www.owl-ontologies.com/unnamed.owl#La Teste does not look like a valid URI, trying to serialize this will break.\n",
      "http://www.owl-ontologies.com/unnamed.owl#Le Creusot - Montceau - Montchanin does not look like a valid URI, trying to serialize this will break.\n",
      "http://www.owl-ontologies.com/unnamed.owl#TGV Haute-Picardie does not look like a valid URI, trying to serialize this will break.\n",
      "http://www.owl-ontologies.com/unnamed.owl#Sallanches - Combloux - Megève does not look like a valid URI, trying to serialize this will break.\n",
      "http://www.owl-ontologies.com/unnamed.owl#Valence TGV does not look like a valid URI, trying to serialize this will break.\n",
      "http://www.owl-ontologies.com/unnamed.owl#Calais - Fréthun does not look like a valid URI, trying to serialize this will break.\n",
      "http://www.owl-ontologies.com/unnamed.owl#Lyon-Saint-Exupéry TGV does not look like a valid URI, trying to serialize this will break.\n",
      "http://www.owl-ontologies.com/unnamed.owl#Le Pouliguen does not look like a valid URI, trying to serialize this will break.\n",
      "http://www.owl-ontologies.com/unnamed.owl#Mâcon-Loché TGV does not look like a valid URI, trying to serialize this will break.\n",
      "http://www.owl-ontologies.com/unnamed.owl#Saint-Jean-de-Luz - Ciboure does not look like a valid URI, trying to serialize this will break.\n",
      "http://www.owl-ontologies.com/unnamed.owl#Massy TGV does not look like a valid URI, trying to serialize this will break.\n",
      "http://www.owl-ontologies.com/unnamed.owl#Croix - Wasquehal does not look like a valid URI, trying to serialize this will break.\n",
      "http://www.owl-ontologies.com/unnamed.owl#Saint-Michel - Valloire does not look like a valid URI, trying to serialize this will break.\n",
      "http://www.owl-ontologies.com/unnamed.owl#La Baule-Escoublac does not look like a valid URI, trying to serialize this will break.\n",
      "http://www.owl-ontologies.com/unnamed.owl#Étaples - Le Touquet does not look like a valid URI, trying to serialize this will break.\n",
      "http://www.owl-ontologies.com/unnamed.owl#Avignon TGV does not look like a valid URI, trying to serialize this will break.\n",
      "http://www.owl-ontologies.com/unnamed.owl#Moûtiers - Salins - Brides-les-Bains does not look like a valid URI, trying to serialize this will break.\n"
     ]
    },
    {
     "data": {
      "text/plain": [
       "<Graph identifier=N4074dbf82ac44e44b9c46053a29e4e57 (<class 'rdflib.graph.Graph'>)>"
      ]
     },
     "execution_count": 38,
     "metadata": {},
     "output_type": "execute_result"
    }
   ],
   "source": [
    "g=Graph()\n",
    "\n",
    "g.parse(\"Hotelrain - RDF.rdf\")"
   ]
  },
  {
   "cell_type": "markdown",
   "id": "given-deficit",
   "metadata": {},
   "source": [
    "### Typing the query :"
   ]
  },
  {
   "cell_type": "code",
   "execution_count": 34,
   "id": "disturbed-telling",
   "metadata": {},
   "outputs": [],
   "source": [
    "query_test=\"\"\"\n",
    "PREFIX owl: <http://www.w3.org/2002/07/owl#>\n",
    "PREFIX rdf: <http://www.w3.org/1999/02/22-rdf-syntax-ns#>\n",
    "PREFIX rdfs: <http://www.w3.org/2000/01/rdf-schema#>\n",
    "PREFIX ns: <http://www.owl-ontologies.com/unnamed.owl#>\n",
    "PREFIX cim: <http://iec.ch/TC57/2010/CIM-schema-cim15#>\n",
    "\n",
    "SELECT * WHERE {\n",
    "  ?poi rdf:type ns:Traveler.\n",
    "  ?poi ns:hasName ?Name.\n",
    "  ?poi ns:hasAge ?Age.\n",
    " FILTER(?Age>22)\n",
    "} \n",
    "\"\"\"\n",
    "\n",
    "qres=g.query(query_test)"
   ]
  },
  {
   "cell_type": "code",
   "execution_count": 35,
   "id": "nutritional-router",
   "metadata": {},
   "outputs": [
    {
     "name": "stdout",
     "output_type": "stream",
     "text": [
      "32\n"
     ]
    }
   ],
   "source": [
    "for row in qres:\n",
    "    print(f\"{row.Age}\")"
   ]
  },
  {
   "cell_type": "markdown",
   "id": "collective-theology",
   "metadata": {},
   "source": [
    "## Populating the ontology by reading csv files"
   ]
  },
  {
   "cell_type": "markdown",
   "id": "conventional-reader",
   "metadata": {},
   "source": [
    "### Hotels & Campings"
   ]
  },
  {
   "cell_type": "code",
   "execution_count": 2,
   "id": "curious-particle",
   "metadata": {},
   "outputs": [],
   "source": [
    "import pandas as pd"
   ]
  },
  {
   "cell_type": "code",
   "execution_count": 4,
   "id": "exterior-coverage",
   "metadata": {},
   "outputs": [],
   "source": [
    "df=pd.read_csv(\"hebergements-classes.csv\",sep=\";\")\n",
    "#df.drop(df.iloc[:,:1],axis=1,inplace=True)"
   ]
  },
  {
   "cell_type": "markdown",
   "id": "identified-actor",
   "metadata": {
    "collapsed": true
   },
   "source": [
    "#### Here are all the columns we will need :\n",
    "- coordonnees\n",
    "- NOM COMMERCIAL\n",
    "- TELEPHONE\n",
    "- SITE INTERNET\n",
    "- CLASSEMENT\n",
    "- Nom du département"
   ]
  },
  {
   "cell_type": "code",
   "execution_count": 9,
   "id": "swiss-identity",
   "metadata": {},
   "outputs": [],
   "source": [
    "df2=df[[\"coordonnees\",\"NOM COMMERCIAL\",\"TELEPHONE\",\"SITE INTERNET\",\"CLASSEMENT\",\"Nom du département\"]].copy()\n",
    "df2.dropna(inplace=True)\n",
    "df2 = df2[df2.CLASSEMENT != 'Aire naturelle']"
   ]
  },
  {
   "cell_type": "code",
   "execution_count": 10,
   "id": "second-machine",
   "metadata": {},
   "outputs": [],
   "source": [
    "\n",
    "lat=[]\n",
    "long=[]\n",
    "\n",
    "for i in df2[\"coordonnees\"]:\n",
    "    coor=i.split(',')\n",
    "    lat.append(coor[0])\n",
    "    long.append(coor[1])"
   ]
  },
  {
   "cell_type": "code",
   "execution_count": 11,
   "id": "therapeutic-rotation",
   "metadata": {},
   "outputs": [],
   "source": [
    "stars=[]\n",
    "for g in df2[\"CLASSEMENT\"]:\n",
    "    #print(int(g[0]))\n",
    "    stars.append(int(g[0]))"
   ]
  },
  {
   "cell_type": "markdown",
   "id": "fantastic-bleeding",
   "metadata": {},
   "source": [
    "#### Hotel individual example"
   ]
  },
  {
   "cell_type": "raw",
   "id": "curious-folks",
   "metadata": {},
   "source": [
    "<owl:NamedIndividual rdf:about=\"http://www.owl-ontologies.com/unnamed.owl#H1\">\n",
    "        <rdf:type rdf:resource=\"http://www.owl-ontologies.com/unnamed.owl#Hotel\"/>\n",
    "        <hasDistrict rdf:datatype=\"http://www.w3.org/2001/XMLSchema#string\">SAVOIE</hasDistrict>\n",
    "        <hasLatitude rdf:datatype=\"http://www.w3.org/2001/XMLSchema#float\">45.45148</hasLatitude>\n",
    "        <hasLink rdf:datatype=\"http://www.w3.org/2001/XMLSchema#string\">http://www.hotel-athena-brides.com</hasLink>\n",
    "        <hasLongitude rdf:datatype=\"http://www.w3.org/2001/XMLSchema#float\">6.571805</hasLongitude>\n",
    "        <hasName rdf:datatype=\"http://www.w3.org/2001/XMLSchema#string\">Hôtel Athêna</hasName>\n",
    "        <hasNumber rdf:datatype=\"http://www.w3.org/2001/XMLSchema#string\">0479553101</hasNumber>\n",
    "        <hasStar rdf:datatype=\"http://www.w3.org/2001/XMLSchema#int\">3</hasStar>\n",
    "    </owl:NamedIndividual>"
   ]
  },
  {
   "cell_type": "code",
   "execution_count": 139,
   "id": "british-mitchell",
   "metadata": {
    "scrolled": true
   },
   "outputs": [],
   "source": [
    "\n",
    "individuals=\"\"\n",
    "for index in range(len(lat)):\n",
    "    \n",
    "    #''.join(e for e in df2[\"NOM COMMERCIAL\"].loc[index] if e.isalnum())\n",
    "    try:\n",
    "        hotel=f\"\"\"<owl:NamedIndividual rdf:about=\"http://www.owl-ontologies.com/unnamed.owl#{''.join(e for e in df2[\"NOM COMMERCIAL\"].loc[index] if e.isalnum())}{index}\">\n",
    "        <rdf:type rdf:resource=\"http://www.owl-ontologies.com/unnamed.owl#Hotel\"/>\n",
    "        <hasDistrict rdf:datatype=\"http://www.w3.org/2001/XMLSchema#string\">{df2[\"Nom du département\"].loc[index]}</hasDistrict>\n",
    "        <hasLatitude rdf:datatype=\"http://www.w3.org/2001/XMLSchema#float\">{lat[index]}</hasLatitude>\n",
    "        <hasLink rdf:datatype=\"http://www.w3.org/2001/XMLSchema#string\">{df2[\"SITE INTERNET\"].loc[index].replace(\"&\",\"\")}</hasLink>\n",
    "        <hasLongitude rdf:datatype=\"http://www.w3.org/2001/XMLSchema#float\">{long[index]}</hasLongitude>\n",
    "        <hasName rdf:datatype=\"http://www.w3.org/2001/XMLSchema#string\">{''.join(e for e in df2[\"NOM COMMERCIAL\"].loc[index] if e.isalnum())}</hasName>\n",
    "        <hasNumber rdf:datatype=\"http://www.w3.org/2001/XMLSchema#string\">{df2[\"TELEPHONE\"].loc[index]}</hasNumber>\n",
    "        <hasStar rdf:datatype=\"http://www.w3.org/2001/XMLSchema#int\">{stars[index]}</hasStar>\n",
    "    </owl:NamedIndividual>\\n\\n\"\"\"\n",
    "    except KeyError:\n",
    "        pass\n",
    "        \n",
    "        \n",
    "    \n",
    "    individuals+=hotel"
   ]
  },
  {
   "cell_type": "code",
   "execution_count": 140,
   "id": "documentary-protocol",
   "metadata": {},
   "outputs": [],
   "source": [
    "#df2[\"Nom du département\"].unique()\n",
    "\n",
    "individuals\n",
    "with open(\"indivs.txt\",\"w\") as f:\n",
    "    f.write(individuals)"
   ]
  },
  {
   "cell_type": "markdown",
   "id": "fresh-shelf",
   "metadata": {},
   "source": [
    "### Creating Trips"
   ]
  },
  {
   "cell_type": "code",
   "execution_count": 6,
   "id": "rational-bench",
   "metadata": {},
   "outputs": [],
   "source": [
    "dft=pd.read_csv(\"garesnet.csv\")"
   ]
  },
  {
   "cell_type": "code",
   "execution_count": 7,
   "id": "african-compact",
   "metadata": {},
   "outputs": [],
   "source": [
    "lst=list(dft[\"Nom_Gare\"].values)\n"
   ]
  },
  {
   "cell_type": "code",
   "execution_count": 8,
   "id": "hawaiian-russell",
   "metadata": {},
   "outputs": [],
   "source": [
    "import random\n",
    "\n",
    "random.shuffle(lst)\n"
   ]
  },
  {
   "cell_type": "markdown",
   "id": "grateful-trading",
   "metadata": {},
   "source": [
    "#### Trip individual example"
   ]
  },
  {
   "cell_type": "raw",
   "id": "guilty-oxide",
   "metadata": {},
   "source": [
    " <owl:NamedIndividual rdf:about=\"http://www.owl-ontologies.com/unnamed.owl#trip1\">\n",
    "        <rdf:type rdf:resource=\"http://www.owl-ontologies.com/unnamed.owl#Trip\"/>\n",
    "        <hasArrival rdf:resource=\"http://www.owl-ontologies.com/unnamed.owl#G1\"/>\n",
    "        <hasDeparture rdf:resource=\"http://www.owl-ontologies.com/unnamed.owl#G2\"/>\n",
    "        <hasTraveler rdf:resource=\"http://www.owl-ontologies.com/unnamed.owl#I1\"/>\n",
    "    </owl:NamedIndividual>"
   ]
  },
  {
   "cell_type": "code",
   "execution_count": 39,
   "id": "magnetic-detective",
   "metadata": {},
   "outputs": [],
   "source": [
    "allTrips=\"\"\n",
    "\n",
    "for i in range(50):\n",
    "    \n",
    "    \n",
    "    owl_trip=f\"\"\"\n",
    "     <owl:NamedIndividual rdf:about=\"http://www.owl-ontologies.com/unnamed.owl#Trip{i+i}\">\n",
    "        <rdf:type rdf:resource=\"http://www.owl-ontologies.com/unnamed.owl#Trip\"/>\n",
    "        <hasArrival rdf:resource=\"http://www.owl-ontologies.com/unnamed.owl#{lst.pop()}\"/>\n",
    "        <hasDeparture rdf:resource=\"http://www.owl-ontologies.com/unnamed.owl#{lst.pop()}\"/>\n",
    "        <hasTraveler rdf:resource=\"http://www.owl-ontologies.com/unnamed.owl#I{random.randint(1,4)}\"/>\n",
    "    </owl:NamedIndividual>\\n\\n\n",
    "    \n",
    "    \"\"\"\n",
    "    allTrips+=owl_trip"
   ]
  },
  {
   "cell_type": "code",
   "execution_count": 40,
   "id": "forbidden-headquarters",
   "metadata": {},
   "outputs": [],
   "source": [
    "with open(\"trips.rdf\",\"w\") as f:\n",
    "    f.write(allTrips)"
   ]
  }
 ],
 "metadata": {
  "kernelspec": {
   "display_name": "Python 3",
   "language": "python",
   "name": "python3"
  },
  "language_info": {
   "codemirror_mode": {
    "name": "ipython",
    "version": 3
   },
   "file_extension": ".py",
   "mimetype": "text/x-python",
   "name": "python",
   "nbconvert_exporter": "python",
   "pygments_lexer": "ipython3",
   "version": "3.8.5"
  }
 },
 "nbformat": 4,
 "nbformat_minor": 5
}
