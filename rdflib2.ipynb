{
 "cells": [
  {
   "cell_type": "code",
   "execution_count": 2,
   "id": "guided-medication",
   "metadata": {},
   "outputs": [],
   "source": [
    "import rdflib"
   ]
  },
  {
   "cell_type": "code",
   "execution_count": 3,
   "id": "outstanding-check",
   "metadata": {},
   "outputs": [],
   "source": [
    "from rdflib import Graph"
   ]
  },
  {
   "cell_type": "code",
   "execution_count": 4,
   "id": "romance-municipality",
   "metadata": {
    "scrolled": true
   },
   "outputs": [
    {
     "name": "stderr",
     "output_type": "stream",
     "text": [
      "http://www.owl-ontologies.com/unnamed.owl#Aix-en-Provence TGV does not look like a valid URI, trying to serialize this will break.\n",
      "http://www.owl-ontologies.com/unnamed.owl#Avignon TGV does not look like a valid URI, trying to serialize this will break.\n",
      "http://www.owl-ontologies.com/unnamed.owl#Champagne-Ardenne TGV does not look like a valid URI, trying to serialize this will break.\n",
      "http://www.owl-ontologies.com/unnamed.owl#La Rochelle-Ville does not look like a valid URI, trying to serialize this will break.\n",
      "http://www.owl-ontologies.com/unnamed.owl#Valence TGV does not look like a valid URI, trying to serialize this will break.\n",
      "http://www.owl-ontologies.com/unnamed.owl#Meuse TGV does not look like a valid URI, trying to serialize this will break.\n",
      "http://www.owl-ontologies.com/unnamed.owl#La Teste does not look like a valid URI, trying to serialize this will break.\n",
      "http://www.owl-ontologies.com/unnamed.owl#TGV Haute-Picardie does not look like a valid URI, trying to serialize this will break.\n",
      "http://www.owl-ontologies.com/unnamed.owl#Lorraine TGV does not look like a valid URI, trying to serialize this will break.\n",
      "http://www.owl-ontologies.com/unnamed.owl#Vendôme - Villiers-sur-Loir does not look like a valid URI, trying to serialize this will break.\n",
      "http://www.owl-ontologies.com/unnamed.owl#La Baule-Escoublac does not look like a valid URI, trying to serialize this will break.\n",
      "http://www.owl-ontologies.com/unnamed.owl#Le Croisic does not look like a valid URI, trying to serialize this will break.\n",
      "http://www.owl-ontologies.com/unnamed.owl#Le Pouliguen does not look like a valid URI, trying to serialize this will break.\n",
      "http://www.owl-ontologies.com/unnamed.owl#Croix - Wasquehal does not look like a valid URI, trying to serialize this will break.\n",
      "http://www.owl-ontologies.com/unnamed.owl#Calais - Fréthun does not look like a valid URI, trying to serialize this will break.\n",
      "http://www.owl-ontologies.com/unnamed.owl#Étaples - Le Touquet does not look like a valid URI, trying to serialize this will break.\n",
      "http://www.owl-ontologies.com/unnamed.owl#Rang-du-Fliers - Verton does not look like a valid URI, trying to serialize this will break.\n",
      "http://www.owl-ontologies.com/unnamed.owl#Saint-Jean-de-Luz - Ciboure does not look like a valid URI, trying to serialize this will break.\n",
      "http://www.owl-ontologies.com/unnamed.owl#Besançon Franche-Comté TGV does not look like a valid URI, trying to serialize this will break.\n",
      "http://www.owl-ontologies.com/unnamed.owl#Lyon-Saint-Exupéry TGV does not look like a valid URI, trying to serialize this will break.\n",
      "http://www.owl-ontologies.com/unnamed.owl#Marne-la-Vallée - Chessy does not look like a valid URI, trying to serialize this will break.\n",
      "http://www.owl-ontologies.com/unnamed.owl#Le Creusot - Montceau - Montchanin does not look like a valid URI, trying to serialize this will break.\n",
      "http://www.owl-ontologies.com/unnamed.owl#Mâcon-Loché TGV does not look like a valid URI, trying to serialize this will break.\n",
      "http://www.owl-ontologies.com/unnamed.owl#Le Mans does not look like a valid URI, trying to serialize this will break.\n",
      "http://www.owl-ontologies.com/unnamed.owl#Aime-La Plagne does not look like a valid URI, trying to serialize this will break.\n",
      "http://www.owl-ontologies.com/unnamed.owl#Aix-les-Bains-Le Revard does not look like a valid URI, trying to serialize this will break.\n",
      "http://www.owl-ontologies.com/unnamed.owl#Chambéry - Challes-les-Eaux does not look like a valid URI, trying to serialize this will break.\n",
      "http://www.owl-ontologies.com/unnamed.owl#Moûtiers - Salins - Brides-les-Bains does not look like a valid URI, trying to serialize this will break.\n",
      "http://www.owl-ontologies.com/unnamed.owl#Saint-Avre - La Chambre does not look like a valid URI, trying to serialize this will break.\n",
      "http://www.owl-ontologies.com/unnamed.owl#Saint-Jean-de-Maurienne - Vallée de l'Arvan does not look like a valid URI, trying to serialize this will break.\n",
      "http://www.owl-ontologies.com/unnamed.owl#Saint-Gervais-les-Bains-Le Fayet does not look like a valid URI, trying to serialize this will break.\n",
      "http://www.owl-ontologies.com/unnamed.owl#Sallanches - Combloux - Megève does not look like a valid URI, trying to serialize this will break.\n",
      "http://www.owl-ontologies.com/unnamed.owl#Le Havre does not look like a valid URI, trying to serialize this will break.\n",
      "http://www.owl-ontologies.com/unnamed.owl#Saint-Maixent (Deux-Sèvres) does not look like a valid URI, trying to serialize this will break.\n",
      "http://www.owl-ontologies.com/unnamed.owl#Les Arcs - Draguignan does not look like a valid URI, trying to serialize this will break.\n",
      "http://www.owl-ontologies.com/unnamed.owl#La Roche-sur-Yon does not look like a valid URI, trying to serialize this will break.\n",
      "http://www.owl-ontologies.com/unnamed.owl#Les Sables-d'Olonne does not look like a valid URI, trying to serialize this will break.\n",
      "http://www.owl-ontologies.com/unnamed.owl#Saint-Michel - Valloire does not look like a valid URI, trying to serialize this will break.\n",
      "http://www.owl-ontologies.com/unnamed.owl#Belfort - Montbéliard TGV does not look like a valid URI, trying to serialize this will break.\n",
      "http://www.owl-ontologies.com/unnamed.owl#Massy - Palaiseau does not look like a valid URI, trying to serialize this will break.\n",
      "http://www.owl-ontologies.com/unnamed.owl#Massy TGV does not look like a valid URI, trying to serialize this will break.\n",
      "http://www.owl-ontologies.com/unnamed.owl#Champagne-Ardenne TGV does not look like a valid URI, trying to serialize this will break.\n",
      "http://www.owl-ontologies.com/unnamed.owl#Lorraine TGV does not look like a valid URI, trying to serialize this will break.\n",
      "http://www.owl-ontologies.com/unnamed.owl#La Teste does not look like a valid URI, trying to serialize this will break.\n",
      "http://www.owl-ontologies.com/unnamed.owl#Le Creusot - Montceau - Montchanin does not look like a valid URI, trying to serialize this will break.\n",
      "http://www.owl-ontologies.com/unnamed.owl#TGV Haute-Picardie does not look like a valid URI, trying to serialize this will break.\n",
      "http://www.owl-ontologies.com/unnamed.owl#Sallanches - Combloux - Megève does not look like a valid URI, trying to serialize this will break.\n",
      "http://www.owl-ontologies.com/unnamed.owl#Valence TGV does not look like a valid URI, trying to serialize this will break.\n",
      "http://www.owl-ontologies.com/unnamed.owl#Calais - Fréthun does not look like a valid URI, trying to serialize this will break.\n",
      "http://www.owl-ontologies.com/unnamed.owl#Lyon-Saint-Exupéry TGV does not look like a valid URI, trying to serialize this will break.\n",
      "http://www.owl-ontologies.com/unnamed.owl#Le Pouliguen does not look like a valid URI, trying to serialize this will break.\n",
      "http://www.owl-ontologies.com/unnamed.owl#Mâcon-Loché TGV does not look like a valid URI, trying to serialize this will break.\n",
      "http://www.owl-ontologies.com/unnamed.owl#Saint-Jean-de-Luz - Ciboure does not look like a valid URI, trying to serialize this will break.\n",
      "http://www.owl-ontologies.com/unnamed.owl#Massy TGV does not look like a valid URI, trying to serialize this will break.\n",
      "http://www.owl-ontologies.com/unnamed.owl#Croix - Wasquehal does not look like a valid URI, trying to serialize this will break.\n",
      "http://www.owl-ontologies.com/unnamed.owl#Saint-Michel - Valloire does not look like a valid URI, trying to serialize this will break.\n",
      "http://www.owl-ontologies.com/unnamed.owl#La Baule-Escoublac does not look like a valid URI, trying to serialize this will break.\n",
      "http://www.owl-ontologies.com/unnamed.owl#Étaples - Le Touquet does not look like a valid URI, trying to serialize this will break.\n",
      "http://www.owl-ontologies.com/unnamed.owl#Avignon TGV does not look like a valid URI, trying to serialize this will break.\n",
      "http://www.owl-ontologies.com/unnamed.owl#Moûtiers - Salins - Brides-les-Bains does not look like a valid URI, trying to serialize this will break.\n"
     ]
    },
    {
     "data": {
      "text/plain": [
       "<Graph identifier=N1ff77ba87d3e45ebb9befc7a47d44630 (<class 'rdflib.graph.Graph'>)>"
      ]
     },
     "execution_count": 4,
     "metadata": {},
     "output_type": "execute_result"
    }
   ],
   "source": [
    "g=Graph()\n",
    "\n",
    "g.parse(\"convert6.rdf\")"
   ]
  },
  {
   "cell_type": "markdown",
   "id": "given-deficit",
   "metadata": {},
   "source": [
    "# Get all stations :"
   ]
  },
  {
   "cell_type": "code",
   "execution_count": 34,
   "id": "disturbed-telling",
   "metadata": {},
   "outputs": [],
   "source": [
    "query_test=\"\"\"\n",
    "PREFIX owl: <http://www.w3.org/2002/07/owl#>\n",
    "PREFIX rdf: <http://www.w3.org/1999/02/22-rdf-syntax-ns#>\n",
    "PREFIX rdfs: <http://www.w3.org/2000/01/rdf-schema#>\n",
    "PREFIX ns: <http://www.owl-ontologies.com/unnamed.owl#>\n",
    "PREFIX cim: <http://iec.ch/TC57/2010/CIM-schema-cim15#>\n",
    "\n",
    "SELECT * WHERE {\n",
    "  ?poi rdf:type ns:Traveler.\n",
    "  ?poi ns:hasName ?Name.\n",
    "  ?poi ns:hasAge ?Age.\n",
    " FILTER(?Age>22)\n",
    "} \n",
    "\"\"\"\n",
    "\n",
    "qres=g.query(query_test)"
   ]
  },
  {
   "cell_type": "code",
   "execution_count": 35,
   "id": "nutritional-router",
   "metadata": {},
   "outputs": [
    {
     "name": "stdout",
     "output_type": "stream",
     "text": [
      "32\n"
     ]
    }
   ],
   "source": [
    "for row in qres:\n",
    "    print(f\"{row.Age}\")"
   ]
  },
  {
   "cell_type": "code",
   "execution_count": null,
   "id": "affiliated-variance",
   "metadata": {},
   "outputs": [],
   "source": []
  },
  {
   "cell_type": "code",
   "execution_count": 7,
   "id": "curious-particle",
   "metadata": {},
   "outputs": [],
   "source": [
    "import pandas as pd"
   ]
  },
  {
   "cell_type": "code",
   "execution_count": 8,
   "id": "exterior-coverage",
   "metadata": {},
   "outputs": [],
   "source": [
    "df=pd.read_csv(\"hebergements-classes.csv\",sep=\";\")\n",
    "#df.drop(df.iloc[:,:1],axis=1,inplace=True)"
   ]
  },
  {
   "cell_type": "code",
   "execution_count": 43,
   "id": "going-fifty",
   "metadata": {
    "collapsed": true
   },
   "outputs": [
    {
     "data": {
      "text/plain": [
       "0              SAVOIE\n",
       "1         DEUX-SEVRES\n",
       "2             HERAULT\n",
       "3        LOIR-ET-CHER\n",
       "4               RHONE\n",
       "             ...     \n",
       "18416          VENDEE\n",
       "18417          MANCHE\n",
       "18418           PARIS\n",
       "18419           PARIS\n",
       "18420             LOT\n",
       "Name: Nom du département, Length: 18421, dtype: object"
      ]
     },
     "execution_count": 43,
     "metadata": {},
     "output_type": "execute_result"
    }
   ],
   "source": [
    "df[\"coordonnees\"]\n",
    "df[\"NOM COMMERCIAL\"]\n",
    "df[\"TELEPHONE\"]\n",
    "df[\"SITE INTERNET\"]\n",
    "df[\"CLASSEMENT\"]\n",
    "df[\"Nom du département\"]"
   ]
  },
  {
   "cell_type": "code",
   "execution_count": 9,
   "id": "swiss-identity",
   "metadata": {},
   "outputs": [],
   "source": [
    "#df.dropna(axis=0,columns=[\"coordonnees\",\"NOM COMMERCIAL\",\"TELEPHONE\",\"SITE INTERNET\",\"CLASSEMENT\",\"Nom du département\"])\n",
    "df2=df[[\"coordonnees\",\"NOM COMMERCIAL\",\"TELEPHONE\",\"SITE INTERNET\",\"CLASSEMENT\",\"Nom du département\"]].copy()\n",
    "df2.dropna(inplace=True)\n",
    "df2 = df2[df2.CLASSEMENT != 'Aire naturelle']"
   ]
  },
  {
   "cell_type": "code",
   "execution_count": 10,
   "id": "second-machine",
   "metadata": {},
   "outputs": [],
   "source": [
    "\n",
    "lat=[]\n",
    "long=[]\n",
    "\n",
    "for i in df2[\"coordonnees\"]:\n",
    "    coor=i.split(',')\n",
    "    lat.append(coor[0])\n",
    "    long.append(coor[1])"
   ]
  },
  {
   "cell_type": "code",
   "execution_count": 11,
   "id": "therapeutic-rotation",
   "metadata": {},
   "outputs": [],
   "source": [
    "stars=[]\n",
    "for g in df2[\"CLASSEMENT\"]:\n",
    "    #print(int(g[0]))\n",
    "    stars.append(int(g[0]))"
   ]
  },
  {
   "cell_type": "raw",
   "id": "curious-folks",
   "metadata": {},
   "source": [
    "Hotel Example\n",
    "\n",
    "<owl:NamedIndividual rdf:about=\"http://www.owl-ontologies.com/unnamed.owl#H1\">\n",
    "        <rdf:type rdf:resource=\"http://www.owl-ontologies.com/unnamed.owl#Hotel\"/>\n",
    "        <hasDistrict rdf:datatype=\"http://www.w3.org/2001/XMLSchema#string\">SAVOIE</hasDistrict>\n",
    "        <hasLatitude rdf:datatype=\"http://www.w3.org/2001/XMLSchema#float\">45.45148</hasLatitude>\n",
    "        <hasLink rdf:datatype=\"http://www.w3.org/2001/XMLSchema#string\">http://www.hotel-athena-brides.com</hasLink>\n",
    "        <hasLongitude rdf:datatype=\"http://www.w3.org/2001/XMLSchema#float\">6.571805</hasLongitude>\n",
    "        <hasName rdf:datatype=\"http://www.w3.org/2001/XMLSchema#string\">Hôtel Athêna</hasName>\n",
    "        <hasNumber rdf:datatype=\"http://www.w3.org/2001/XMLSchema#string\">0479553101</hasNumber>\n",
    "        <hasStar rdf:datatype=\"http://www.w3.org/2001/XMLSchema#int\">3</hasStar>\n",
    "    </owl:NamedIndividual>"
   ]
  },
  {
   "cell_type": "code",
   "execution_count": 139,
   "id": "british-mitchell",
   "metadata": {
    "scrolled": true
   },
   "outputs": [],
   "source": [
    "\n",
    "individuals=\"\"\n",
    "for index in range(len(lat)):\n",
    "    \n",
    "    #''.join(e for e in df2[\"NOM COMMERCIAL\"].loc[index] if e.isalnum())\n",
    "    try:\n",
    "        hotel=f\"\"\"<owl:NamedIndividual rdf:about=\"http://www.owl-ontologies.com/unnamed.owl#{''.join(e for e in df2[\"NOM COMMERCIAL\"].loc[index] if e.isalnum())}{index}\">\n",
    "        <rdf:type rdf:resource=\"http://www.owl-ontologies.com/unnamed.owl#Hotel\"/>\n",
    "        <hasDistrict rdf:datatype=\"http://www.w3.org/2001/XMLSchema#string\">{df2[\"Nom du département\"].loc[index]}</hasDistrict>\n",
    "        <hasLatitude rdf:datatype=\"http://www.w3.org/2001/XMLSchema#float\">{lat[index]}</hasLatitude>\n",
    "        <hasLink rdf:datatype=\"http://www.w3.org/2001/XMLSchema#string\">{df2[\"SITE INTERNET\"].loc[index].replace(\"&\",\"\")}</hasLink>\n",
    "        <hasLongitude rdf:datatype=\"http://www.w3.org/2001/XMLSchema#float\">{long[index]}</hasLongitude>\n",
    "        <hasName rdf:datatype=\"http://www.w3.org/2001/XMLSchema#string\">{''.join(e for e in df2[\"NOM COMMERCIAL\"].loc[index] if e.isalnum())}</hasName>\n",
    "        <hasNumber rdf:datatype=\"http://www.w3.org/2001/XMLSchema#string\">{df2[\"TELEPHONE\"].loc[index]}</hasNumber>\n",
    "        <hasStar rdf:datatype=\"http://www.w3.org/2001/XMLSchema#int\">{stars[index]}</hasStar>\n",
    "    </owl:NamedIndividual>\\n\\n\"\"\"\n",
    "    except KeyError:\n",
    "        pass\n",
    "        \n",
    "        \n",
    "    \n",
    "    individuals+=hotel"
   ]
  },
  {
   "cell_type": "code",
   "execution_count": 140,
   "id": "documentary-protocol",
   "metadata": {},
   "outputs": [],
   "source": [
    "#df2[\"Nom du département\"].unique()\n",
    "\n",
    "individuals\n",
    "with open(\"indivs.txt\",\"w\") as f:\n",
    "    f.write(individuals)"
   ]
  },
  {
   "cell_type": "markdown",
   "id": "fresh-shelf",
   "metadata": {},
   "source": [
    "# Trips"
   ]
  },
  {
   "cell_type": "code",
   "execution_count": 12,
   "id": "rational-bench",
   "metadata": {},
   "outputs": [],
   "source": [
    "dft=pd.read_csv(\"garesnet.csv\")"
   ]
  },
  {
   "cell_type": "code",
   "execution_count": 14,
   "id": "aboriginal-nerve",
   "metadata": {},
   "outputs": [
    {
     "ename": "IndentationError",
     "evalue": "unindent does not match any outer indentation level (<tokenize>, line 6)",
     "output_type": "error",
     "traceback": [
      "\u001b[1;36m  File \u001b[1;32m\"<tokenize>\"\u001b[1;36m, line \u001b[1;32m6\u001b[0m\n\u001b[1;33m    </owl:NamedIndividual>\u001b[0m\n\u001b[1;37m    ^\u001b[0m\n\u001b[1;31mIndentationError\u001b[0m\u001b[1;31m:\u001b[0m unindent does not match any outer indentation level\n"
     ]
    }
   ],
   "source": [
    " <owl:NamedIndividual rdf:about=\"http://www.owl-ontologies.com/unnamed.owl#trip1\">\n",
    "        <rdf:type rdf:resource=\"http://www.owl-ontologies.com/unnamed.owl#Trip\"/>\n",
    "        <hasArrival rdf:resource=\"http://www.owl-ontologies.com/unnamed.owl#G1\"/>\n",
    "        <hasDeparture rdf:resource=\"http://www.owl-ontologies.com/unnamed.owl#G2\"/>\n",
    "        <hasTraveler rdf:resource=\"http://www.owl-ontologies.com/unnamed.owl#I1\"/>\n",
    "    </owl:NamedIndividual>"
   ]
  },
  {
   "cell_type": "code",
   "execution_count": 15,
   "id": "african-compact",
   "metadata": {},
   "outputs": [],
   "source": [
    "lst=list(dft[\"Nom_Gare\"].values)\n"
   ]
  },
  {
   "cell_type": "code",
   "execution_count": 38,
   "id": "hawaiian-russell",
   "metadata": {},
   "outputs": [
    {
     "data": {
      "text/plain": [
       "3"
      ]
     },
     "execution_count": 38,
     "metadata": {},
     "output_type": "execute_result"
    }
   ],
   "source": [
    "import random\n",
    "\n",
    "random.shuffle(lst)\n"
   ]
  },
  {
   "cell_type": "code",
   "execution_count": 39,
   "id": "magnetic-detective",
   "metadata": {},
   "outputs": [],
   "source": [
    "allTrips=\"\"\n",
    "\n",
    "for i in range(50):\n",
    "    \n",
    "    \n",
    "    owl_trip=f\"\"\"\n",
    "     <owl:NamedIndividual rdf:about=\"http://www.owl-ontologies.com/unnamed.owl#Trip{i+i}\">\n",
    "        <rdf:type rdf:resource=\"http://www.owl-ontologies.com/unnamed.owl#Trip\"/>\n",
    "        <hasArrival rdf:resource=\"http://www.owl-ontologies.com/unnamed.owl#{lst.pop()}\"/>\n",
    "        <hasDeparture rdf:resource=\"http://www.owl-ontologies.com/unnamed.owl#{lst.pop()}\"/>\n",
    "        <hasTraveler rdf:resource=\"http://www.owl-ontologies.com/unnamed.owl#I{random.randint(1,4)}\"/>\n",
    "    </owl:NamedIndividual>\\n\\n\n",
    "    \n",
    "    \"\"\"\n",
    "    allTrips+=owl_trip"
   ]
  },
  {
   "cell_type": "code",
   "execution_count": 40,
   "id": "forbidden-headquarters",
   "metadata": {},
   "outputs": [],
   "source": [
    "with open(\"trips.rdf\",\"w\") as f:\n",
    "    f.write(allTrips)"
   ]
  }
 ],
 "metadata": {
  "kernelspec": {
   "display_name": "Python 3",
   "language": "python",
   "name": "python3"
  },
  "language_info": {
   "codemirror_mode": {
    "name": "ipython",
    "version": 3
   },
   "file_extension": ".py",
   "mimetype": "text/x-python",
   "name": "python",
   "nbconvert_exporter": "python",
   "pygments_lexer": "ipython3",
   "version": "3.8.5"
  }
 },
 "nbformat": 4,
 "nbformat_minor": 5
}
