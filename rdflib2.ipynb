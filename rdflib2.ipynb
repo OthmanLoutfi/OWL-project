{
 "cells": [
  {
   "cell_type": "code",
   "execution_count": 1,
   "id": "guided-medication",
   "metadata": {},
   "outputs": [],
   "source": [
    "import rdflib"
   ]
  },
  {
   "cell_type": "code",
   "execution_count": 2,
   "id": "outstanding-check",
   "metadata": {},
   "outputs": [],
   "source": [
    "from rdflib import Graph"
   ]
  },
  {
   "cell_type": "code",
   "execution_count": 14,
   "id": "romance-municipality",
   "metadata": {},
   "outputs": [
    {
     "data": {
      "text/plain": [
       "<Graph identifier=N39db84c0b24e4fbb95bdede8e06263a3 (<class 'rdflib.graph.Graph'>)>"
      ]
     },
     "execution_count": 14,
     "metadata": {},
     "output_type": "execute_result"
    }
   ],
   "source": [
    "g=Graph()\n",
    "\n",
    "g.parse(\"convert.rdf\")"
   ]
  },
  {
   "cell_type": "markdown",
   "id": "given-deficit",
   "metadata": {},
   "source": [
    "# Get all stations :"
   ]
  },
  {
   "cell_type": "code",
   "execution_count": 36,
   "id": "disturbed-telling",
   "metadata": {},
   "outputs": [],
   "source": [
    "query_test=\"\"\"\n",
    "PREFIX owl: <http://www.w3.org/2002/07/owl#>\n",
    "PREFIX rdf: <http://www.w3.org/1999/02/22-rdf-syntax-ns#>\n",
    "PREFIX rdfs: <http://www.w3.org/2000/01/rdf-schema#>\n",
    "PREFIX ns: <http://www.owl-ontologies.com/unnamed.owl#>\n",
    "\n",
    "SELECT * WHERE {\n",
    "  ?t rdf:type ns:Trip.\n",
    "  ?t ns:hasTraveler ?tra.\n",
    "  ?tra ns:hasName ?name.\n",
    "  ?tra ns:hasAge ?age.\n",
    "  \n",
    "}\n",
    "\n",
    "\"\"\""
   ]
  },
  {
   "cell_type": "code",
   "execution_count": 37,
   "id": "nutritional-router",
   "metadata": {},
   "outputs": [],
   "source": [
    "qres=g.query(query_test)"
   ]
  },
  {
   "cell_type": "code",
   "execution_count": 38,
   "id": "affiliated-variance",
   "metadata": {},
   "outputs": [
    {
     "name": "stdout",
     "output_type": "stream",
     "text": [
      "Paul 12\n"
     ]
    }
   ],
   "source": [
    "for row in qres:\n",
    "    print(f\"{row.name} {row.age}\")"
   ]
  },
  {
   "cell_type": "code",
   "execution_count": null,
   "id": "curious-particle",
   "metadata": {},
   "outputs": [],
   "source": []
  }
 ],
 "metadata": {
  "kernelspec": {
   "display_name": "Python 3",
   "language": "python",
   "name": "python3"
  },
  "language_info": {
   "codemirror_mode": {
    "name": "ipython",
    "version": 3
   },
   "file_extension": ".py",
   "mimetype": "text/x-python",
   "name": "python",
   "nbconvert_exporter": "python",
   "pygments_lexer": "ipython3",
   "version": "3.8.5"
  }
 },
 "nbformat": 4,
 "nbformat_minor": 5
}
